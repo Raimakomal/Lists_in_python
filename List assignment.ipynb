{
 "cells": [
  {
   "cell_type": "markdown",
   "id": "b18e848c-ab51-45b0-9fff-6bd1f81f6fd6",
   "metadata": {},
   "source": [
    "# QUESTION NO.1: "
   ]
  },
  {
   "cell_type": "code",
   "execution_count": 22,
   "id": "ba1586c3-6bbb-4af8-9858-3410c5ca40b1",
   "metadata": {},
   "outputs": [
    {
     "name": "stdout",
     "output_type": "stream",
     "text": [
      "[100, -23, 33, 25, 150, 90, -71, 33, 45, 33, 54, 63, 69, 74, 78, 7164]\n"
     ]
    }
   ],
   "source": [
    "Raima =[100,-23,33,25,150,90,-71,33,45,33,54,63,69,74,78]  \n",
    "Raima.append(7164)     # add 7164 at end by usnig append method\n",
    "print(Raima)"
   ]
  },
  {
   "cell_type": "markdown",
   "id": "f75c469c-8f7e-4765-80a4-666ea737c140",
   "metadata": {},
   "source": [
    "## ADD -4500 AT INDEX 5"
   ]
  },
  {
   "cell_type": "code",
   "execution_count": 23,
   "id": "ccfe22ca-ee17-4d53-a475-02e185b8cfb9",
   "metadata": {},
   "outputs": [
    {
     "name": "stdout",
     "output_type": "stream",
     "text": [
      "[100, -23, 33, 25, 150, -4500, 90, -71, 33, 45, 33, 54, 63, 69, 74, 78, 7164]\n"
     ]
    }
   ],
   "source": [
    "Raima.insert(5,-4500)      # insert -4500 at index 5\n",
    "print(Raima)"
   ]
  },
  {
   "cell_type": "markdown",
   "id": "bafdcfff-7259-4ea1-b86a-5de52be60926",
   "metadata": {},
   "source": [
    "## ADD 56777 AT END OF LIST"
   ]
  },
  {
   "cell_type": "code",
   "execution_count": 24,
   "id": "add81860-a4e1-4800-b795-6e5b07b723f9",
   "metadata": {},
   "outputs": [
    {
     "name": "stdout",
     "output_type": "stream",
     "text": [
      "[100, -23, 33, 25, 150, -4500, 90, -71, 33, 45, 33, 54, 63, 69, 74, 78, 7164, 56777]\n"
     ]
    }
   ],
   "source": [
    "Raima.append(56777)            # add 56777 at end of list by using APPEND METHOD\n",
    "print(Raima)"
   ]
  },
  {
   "cell_type": "markdown",
   "id": "0ebb7add-9745-4516-985f-6ecb8651e20a",
   "metadata": {},
   "source": [
    "## FIND MAX NUMBER FROM LIST"
   ]
  },
  {
   "cell_type": "code",
   "execution_count": 25,
   "id": "ebc6a3bb-e3c1-49fa-94e2-f2c4030efd1d",
   "metadata": {},
   "outputs": [
    {
     "name": "stdout",
     "output_type": "stream",
     "text": [
      "56777\n"
     ]
    }
   ],
   "source": [
    "print(max(Raima))      # MAX FUNCTION to get maximun number from list(Raima)"
   ]
  },
  {
   "cell_type": "markdown",
   "id": "1b60c678-822c-46da-ac89-d7a12dd79afc",
   "metadata": {},
   "source": [
    "## FIND MIN NUMBER FROM LIST"
   ]
  },
  {
   "cell_type": "code",
   "execution_count": 26,
   "id": "7f347e5d-33ec-4eb7-aeea-ac71fa8516fe",
   "metadata": {},
   "outputs": [
    {
     "name": "stdout",
     "output_type": "stream",
     "text": [
      "-4500\n"
     ]
    }
   ],
   "source": [
    "print(min(Raima))            # MIN FUNCTION to get minimun number from list(Raima)"
   ]
  },
  {
   "cell_type": "markdown",
   "id": "8e8df623-8eff-40c6-a9ae-5687b8a78cd2",
   "metadata": {},
   "source": [
    "## PRINT EVEN NUMBERS FROM LIST"
   ]
  },
  {
   "cell_type": "code",
   "execution_count": 27,
   "id": "baec49b3-b920-4824-b539-d5bbb0bd0e1f",
   "metadata": {},
   "outputs": [
    {
     "name": "stdout",
     "output_type": "stream",
     "text": [
      "[100, 150, -4500, 90, 54, 74, 78, 7164]\n"
     ]
    }
   ],
   "source": [
    "evenNumbers=[]                        # empty list to store Even numbers\n",
    "for i in Raima:                       # using for loop in which i represents each number's index in list\n",
    "    if i%2 == 0:                      # condition for even numbers . remainder of i should be zero. \n",
    "        evenNumbers.append(i)         # if i is even then it will be stored at the END of list. \n",
    "print(evenNumbers)                    "
   ]
  },
  {
   "cell_type": "markdown",
   "id": "e6968a13-a0bf-404f-af3d-980f42705b9c",
   "metadata": {},
   "source": [
    "## PRINT ODD NUMBERS FROM LIST"
   ]
  },
  {
   "cell_type": "code",
   "execution_count": 28,
   "id": "95ac6234-f7ba-4e34-a626-6c8b098a5ad2",
   "metadata": {},
   "outputs": [
    {
     "name": "stdout",
     "output_type": "stream",
     "text": [
      "[-23, 33, 25, -71, 33, 45, 33, 63, 69, 56777]\n"
     ]
    }
   ],
   "source": [
    "oddNumbers=[]                         # empty list to store Odd numbers\n",
    "for i in Raima:                       # using for loop in which i represents each number's index in list\n",
    "    if i%2 != 0:                      # condition for odd numbers . remainder of i should not be zero. \n",
    "        oddNumbers.append(i)          # if i is odd then it will be stored at the END of list. \n",
    "print(oddNumbers)"
   ]
  },
  {
   "cell_type": "markdown",
   "id": "2c923322-14fd-4389-85ad-dd3a318be802",
   "metadata": {},
   "source": [
    "## PUT POSITIVE VALUES IN A POSITIVE NUMBERS ARRAY"
   ]
  },
  {
   "cell_type": "code",
   "execution_count": 29,
   "id": "3ff3d066-cb1b-4d83-8ab5-86947301b640",
   "metadata": {},
   "outputs": [
    {
     "name": "stdout",
     "output_type": "stream",
     "text": [
      "[100, 33, 25, 150, 90, 33, 45, 33, 54, 63, 69, 74, 78, 7164, 56777]\n"
     ]
    }
   ],
   "source": [
    "positiveNums = []                      # empty list to store POSITIVE numbers\n",
    "for i in Raima:                        # using for loop in which i represents each number's index in list\n",
    "    if i>0:                            # condition for positive numbers . i should  be greater than zero.\n",
    "        positiveNums.append(i)         # if i is positive then it will be stored at the END of list. \n",
    "print(positiveNums)"
   ]
  },
  {
   "cell_type": "markdown",
   "id": "fb5f3539-c04c-4ab4-b3ad-e231ca78c6f9",
   "metadata": {},
   "source": [
    "## PUT NEGATIVE VALUES IN A NEGATIVE NUMBERS ARRAY"
   ]
  },
  {
   "cell_type": "code",
   "execution_count": 30,
   "id": "d720c942-b39f-414b-8182-7dd508b5ca81",
   "metadata": {},
   "outputs": [
    {
     "name": "stdout",
     "output_type": "stream",
     "text": [
      "[-23, -4500, -71]\n"
     ]
    }
   ],
   "source": [
    "negativeNums = []                     # empty list to store POSITIVE numbers\n",
    "for i in Raima:                       # using for loop in which i represents each number's index in list\n",
    "    if i<0:                           # condition for positive numbers . i should  be greater than zero.\n",
    "        negativeNums.append(i)        # if i is positive then it will be stored at the END of list.\n",
    "print(negativeNums)"
   ]
  },
  {
   "cell_type": "markdown",
   "id": "b689c810-35eb-4fce-be40-f766191041e8",
   "metadata": {},
   "source": [
    "## PRINT SORTED LIST"
   ]
  },
  {
   "cell_type": "code",
   "execution_count": 31,
   "id": "e46bccdf-6514-43e5-9af2-79e6e107b3dc",
   "metadata": {},
   "outputs": [
    {
     "name": "stdout",
     "output_type": "stream",
     "text": [
      "[-4500, -71, -23, 25, 33, 33, 33, 45, 54, 63, 69, 74, 78, 90, 100, 150, 7164, 56777]\n"
     ]
    }
   ],
   "source": [
    "print(sorted(Raima))                 # SORTED FUNCTION is used to sort a list"
   ]
  },
  {
   "cell_type": "markdown",
   "id": "062796e9-f996-4498-85fa-364c4378f4f1",
   "metadata": {},
   "source": [
    "## PRINT LIST IN ASCENDING ORDER"
   ]
  },
  {
   "cell_type": "code",
   "execution_count": 32,
   "id": "440dc02e-e9d8-4c33-a396-df3de9e57df1",
   "metadata": {},
   "outputs": [
    {
     "name": "stdout",
     "output_type": "stream",
     "text": [
      "[-4500, -71, -23, 25, 33, 33, 33, 45, 54, 63, 69, 74, 78, 90, 100, 150, 7164, 56777]\n"
     ]
    }
   ],
   "source": [
    "print(sorted(Raima))                 # By default SORTED FUN gives number in Ascending order"
   ]
  },
  {
   "cell_type": "markdown",
   "id": "368f7736-1840-4071-b20b-fd80052dd627",
   "metadata": {},
   "source": [
    "## PRINT LIST IN DESCENDING ORDER"
   ]
  },
  {
   "cell_type": "code",
   "execution_count": 33,
   "id": "4fc0fe18-8bee-4409-a606-f1f057e830a3",
   "metadata": {},
   "outputs": [
    {
     "name": "stdout",
     "output_type": "stream",
     "text": [
      "[56777, 7164, 150, 100, 90, 78, 74, 69, 63, 54, 45, 33, 33, 33, 25, -23, -71, -4500]\n"
     ]
    }
   ],
   "source": [
    "print(sorted(Raima, reverse=True))     # by using sort function we can sort list. and then using reverse it will be in descending order"
   ]
  },
  {
   "cell_type": "markdown",
   "id": "0da75dac-137a-4a4c-afa8-e69a37d2466a",
   "metadata": {},
   "source": [
    "## PRINT POSITIVE VALUES"
   ]
  },
  {
   "cell_type": "code",
   "execution_count": 34,
   "id": "bc3b12fe-4282-4ac7-bf39-5dd0a1127621",
   "metadata": {},
   "outputs": [
    {
     "name": "stdout",
     "output_type": "stream",
     "text": [
      "100 33 25 150 90 33 45 33 54 63 69 74 78 7164 56777 "
     ]
    }
   ],
   "source": [
    "for i in Raima:                   # for loop to print positive values in which i is index numer of each element in list\n",
    "    if i>0:                       # check whether i is greater than zero\n",
    "        print(i, end=' ')         # print positive value at index i"
   ]
  },
  {
   "cell_type": "markdown",
   "id": "b928fad5-e391-44db-b089-31b1822b57a2",
   "metadata": {},
   "source": [
    "## PRINT NEGATIVE VALUES"
   ]
  },
  {
   "cell_type": "code",
   "execution_count": 35,
   "id": "ca2f42bf-3b80-4e6f-8263-0e9c6bc85d51",
   "metadata": {},
   "outputs": [
    {
     "name": "stdout",
     "output_type": "stream",
     "text": [
      "-23 -4500 -71 "
     ]
    }
   ],
   "source": [
    "for i in Raima:                  # for loop to print negative values in which i is index numer of each element in list\n",
    "    if i<0:                      # check whether i is smaller than zero\n",
    "        print(i, end=' ')        # print negative value at index i"
   ]
  },
  {
   "cell_type": "markdown",
   "id": "d9c3f00f-89b0-44d8-b5f6-2eba38082847",
   "metadata": {},
   "source": [
    "## PRINT MULTIPLIER OF NEGATIVE NUMBERS IN LIST"
   ]
  },
  {
   "cell_type": "code",
   "execution_count": 36,
   "id": "83e3de40-3f0f-4ce1-9749-bd8d7ce40a26",
   "metadata": {},
   "outputs": [
    {
     "name": "stdout",
     "output_type": "stream",
     "text": [
      "Multiplier: -7348500\n"
     ]
    }
   ],
   "source": [
    "product=1                       # initialize product variable with one\n",
    "for i in Raima:                 # for loop is used \n",
    "    if i<0:                     # condition that i(List item) should be smaller than zero\n",
    "        product*=i              # update product var each time multiplying it with i\n",
    "print(\"Multiplier:\",product)    # print product of negative values"
   ]
  },
  {
   "cell_type": "markdown",
   "id": "c16c3f0f-93fe-4f79-b7ac-aaedd413779b",
   "metadata": {},
   "source": [
    "## PRINT MULTIPLIER OF POSITIVE NUMBERS"
   ]
  },
  {
   "cell_type": "code",
   "execution_count": 37,
   "id": "cb46607e-f773-4e70-9f43-7437767fd018",
   "metadata": {},
   "outputs": [
    {
     "name": "stdout",
     "output_type": "stream",
     "text": [
      "Multiplier: -221036782462114231275969606300000000000\n"
     ]
    }
   ],
   "source": [
    "poduct=1                          # initialize product variable with one                  \n",
    "for i in Raima:                   # for loop is used \n",
    "    if i>0:                       # condition that i(List item) should be greater than zero\n",
    "        product*=i                # update product var each time multiplying it with i\n",
    "print(\"Multiplier:\",product)      # print product of positive values"
   ]
  },
  {
   "cell_type": "markdown",
   "id": "cd914c0b-34df-439f-88a4-f9c823984460",
   "metadata": {},
   "source": [
    "## Take power with last two digit with your AG number and print new list like 6660 take power of each element of array with 60 "
   ]
  },
  {
   "cell_type": "code",
   "execution_count": 38,
   "id": "5dbdd65b-4f45-4c6a-9c54-5f636cd46597",
   "metadata": {},
   "outputs": [
    {
     "name": "stdout",
     "output_type": "stream",
     "text": [
      "[100000000000000000000000000000000000000000000000000000000000000000000000000000000000000000000000000000000000000000000000000000000, 15307072958184811420872246488959899899488864500972168001373202692974419469010486491951430830622721, 293873587705571876992184134305561419454666389193021880377187926569604314863681793212890625, 18614037287947342154674106047557028201233642050738126272335648536682128906250000000000000000000000000000000000000000000000000000000000000000, 117901845777385831715208728614125186656782115922758411090969610000000000000000000000000000000000000000000000000000000000000000, 15307072958184811420872246488959899899488864500972168001373202692974419469010486491951430830622721, 6391471866594630806511974310104108742664685010083023321615647836281548510584116229438222944736480712890625, 15307072958184811420872246488959899899488864500972168001373202692974419469010486491951430830622721, 746793670963328405582912581512662957425303737220528973376206155564558960211479000064946136232252338833778016256, 14381201289858923833733732277241427911251598557516928831287151963615866190845260542210496569296551598609485715599361, 4856705920261766616432726361041784486707420237162676787270402854051513023913932318206873478462081791833767094850481921, 427395615701346291311380631541796865739738171389602517977337585306379339789278155867212563147285092817886444839633944576, 12418083398396881457420465464204080655738676575271128371208130219846413174194388786066023968329907770706968388738016608256, 5369785518442035400739113698194677538182970587149103499393537954692451782850173705537338876563687309040488656170250921965134438842460071274463157454589348636664133238511370502763064764915073041420080601181381166001334832981727396639050556470460416, 18494229839142291274241283842884500149771793211967538906206417701534878521767177949777828206284744158905139618069110998222915846399909518713645026177706575874553960959998539447510069995174332512480659157033587899108357606009305465245878810609034500584673673012522226161218810264784943319337993422187031041]\n"
     ]
    }
   ],
   "source": [
    "i=64\n",
    "Raima=[n**i for n in Raima if(n>0)]\n",
    "print(Raima)"
   ]
  },
  {
   "cell_type": "markdown",
   "id": "8de07510-2a4e-4512-8afd-f8b1b5266ab0",
   "metadata": {},
   "source": [
    "## SORT AND PRINT LIST IN ASCENDING ORDER"
   ]
  },
  {
   "cell_type": "code",
   "execution_count": 40,
   "id": "f1fff5ff-47d7-4067-aee2-0b0157dc0266",
   "metadata": {},
   "outputs": [
    {
     "name": "stdout",
     "output_type": "stream",
     "text": [
      "Ascending Order: [-4500, -71, -23, 25, 33, 33, 33, 45, 54, 63, 69, 74, 78, 90, 100, 150, 7164, 56777]\n"
     ]
    }
   ],
   "source": [
    "Raima=[100, -23, 33, 25, 150, -4500, 90, -71, 33, 45, 33, 54, 63, 69, 74, 78, 7164, 56777]\n",
    "ascendingList=sorted(Raima)              # sort list by using sorted fun then store it in var\n",
    "print(\"Ascending Order:\",ascendingList)  # print list in ascending order"
   ]
  },
  {
   "cell_type": "markdown",
   "id": "dcaae869-6bd7-4842-b459-587cb8ba2b76",
   "metadata": {},
   "source": [
    " ## PRINT ARRAY IN DESCENDING ORDER"
   ]
  },
  {
   "cell_type": "code",
   "execution_count": 42,
   "id": "dcad5223-8939-461f-a8b9-f399271c9962",
   "metadata": {},
   "outputs": [
    {
     "name": "stdout",
     "output_type": "stream",
     "text": [
      "[56777, 7164, 150, 100, 90, 78, 74, 69, 63, 54, 45, 33, 33, 33, 25, -23, -71, -4500]\n"
     ]
    }
   ],
   "source": [
    "print(sorted(Raima, reverse=True))       # sort list then reverse it to get in descending order"
   ]
  },
  {
   "cell_type": "markdown",
   "id": "f0185924-f782-4264-8a1c-b50109b69041",
   "metadata": {},
   "source": [
    "## PRINT NUMBERS THAT ARE DIVISIBLE BY 5"
   ]
  },
  {
   "cell_type": "code",
   "execution_count": 43,
   "id": "a276c8aa-90fa-44ad-bff1-5ff08354e154",
   "metadata": {},
   "outputs": [
    {
     "name": "stdout",
     "output_type": "stream",
     "text": [
      "[100, 25, 150, -4500, 90, 45]\n"
     ]
    }
   ],
   "source": [
    "divBy5=[]                       # initialized an empty list\n",
    "for i in Raima:                 # for loop is used\n",
    "    if i%5==0:                  # condition that remainder or i should be zero with 5\n",
    "        divBy5.append(i)        # add i at the end of list\n",
    "print(divBy5)                   # print list"
   ]
  },
  {
   "cell_type": "markdown",
   "id": "3872b088-836f-4337-906c-d89e5192febe",
   "metadata": {},
   "source": [
    "## REMOVE MOST REPETITIVE VALUE FROM LIST"
   ]
  },
  {
   "cell_type": "code",
   "execution_count": 44,
   "id": "f7be1993-7f41-4832-9430-7feb09510dc0",
   "metadata": {},
   "outputs": [
    {
     "name": "stdout",
     "output_type": "stream",
     "text": [
      "Most Repeated Value: 33\n",
      "[100, -23, 25, 150, -4500, 90, -71, 45, 54, 63, 69, 74, 78, 7164, 56777]\n"
     ]
    }
   ],
   "source": [
    "mostRepeated = max(set(Raima), key=Raima.count)  # find most repetitive value as set has only unique values \n",
    "print(\"Most Repeated Value:\",mostRepeated)       #  print repeated item\n",
    "\n",
    "newList=[]                   # initialize empty list\n",
    "for i in Raima:              # for loop is used in which i for each item\n",
    "    if i != mostRepeated:    # condition that i should not be most repeated item\n",
    "        newList.append(i)    # add value at end of list which is not repeated\n",
    "print(newList)               # print list"
   ]
  },
  {
   "cell_type": "markdown",
   "id": "3594a8d3-4e9f-45b7-99ce-9f4bbe5053c1",
   "metadata": {},
   "source": [
    "# QUESTION NO 2:"
   ]
  },
  {
   "cell_type": "code",
   "execution_count": 45,
   "id": "83df92c5-912f-4b40-a6bd-006a42730bf0",
   "metadata": {},
   "outputs": [
    {
     "name": "stdout",
     "output_type": "stream",
     "text": [
      "apple = 5\n",
      "orange = 6\n",
      "bringal = 7\n",
      "spinach = 7\n",
      "apricot = 7\n",
      "potato = 6\n",
      "mango = 5\n",
      "banana = 6\n",
      "ladyfinger = 10\n",
      "strawberry = 10\n",
      "litchi = 6\n",
      "peas = 4\n",
      "cabagge = 7\n",
      "onion = 5\n",
      "carrot = 6\n",
      "guava = 5\n",
      "grapes = 6\n",
      "reddish = 7\n",
      "pear = 4\n",
      "tomato = 6\n"
     ]
    }
   ],
   "source": [
    "List = [\"apple\", \"orange\", \"bringal\", \"spinach\", \"apricot\", \"potato\", \"mango\", \"banana\", \"ladyfinger\", \"strawberry\", \n",
    "        \"litchi\", \"peas\", \"cabagge\", \"onion\", \"carrot\", \"guava\", \"grapes\", \"reddish\", \"pear\", \"tomato\" ]\n",
    "\n",
    "for i in List:              # for loop To print length of each element in list . i represents element in list. \n",
    "    print(i,\"=\",len(i))     # len is used to length of each String "
   ]
  },
  {
   "cell_type": "markdown",
   "id": "7bbcc0f2-0788-4896-bcb1-ee498b5d1055",
   "metadata": {},
   "source": [
    "## ITEMS THAT HAVE 4 CHARACTERS"
   ]
  },
  {
   "cell_type": "code",
   "execution_count": 46,
   "id": "bee35d3f-00ea-4cdb-86d0-f3b7a7116656",
   "metadata": {},
   "outputs": [
    {
     "name": "stdout",
     "output_type": "stream",
     "text": [
      "peas  pear  "
     ]
    }
   ],
   "source": [
    "for i in List:                           # for loop To print length of each element in list . i represents element in list.\n",
    "    if len(i)==4:                        # condition that length of string(fruit/veg) should be 4.\n",
    "        print( i,end=\"  \")               # print item i with 4 characters      "
   ]
  },
  {
   "cell_type": "markdown",
   "id": "8cb3d3b5-6368-434e-bf40-5928b1c85c20",
   "metadata": {},
   "source": [
    "## ITEMS THAT HAVE CHARACTERS MORE THAN 5"
   ]
  },
  {
   "cell_type": "code",
   "execution_count": 47,
   "id": "2eba21aa-c0ce-449d-af8e-230c519d0b15",
   "metadata": {},
   "outputs": [
    {
     "name": "stdout",
     "output_type": "stream",
     "text": [
      "orange   bringal   spinach   apricot   potato   banana   ladyfinger   strawberry   litchi   cabagge   carrot   grapes   reddish   tomato   "
     ]
    }
   ],
   "source": [
    "for i in List:                # use a for loop i represnets each item of list\n",
    "    if len(i)>5:              # condition that length of i(item) should be greater than five\n",
    "        print(i,end=\"   \")    # print item with more than 5 char"
   ]
  },
  {
   "cell_type": "markdown",
   "id": "58b03c36-d5d5-49dd-8450-c52236f77bbd",
   "metadata": {},
   "source": [
    "## ITEMS THAT CONTAIN CHARACTER 'A'"
   ]
  },
  {
   "cell_type": "code",
   "execution_count": 48,
   "id": "17a4f428-3aa1-4b67-a6f7-23156d881f28",
   "metadata": {},
   "outputs": [
    {
     "name": "stdout",
     "output_type": "stream",
     "text": [
      "apple  orange  bringal  spinach  apricot  potato  mango  banana  ladyfinger  strawberry  peas  cabagge  carrot  guava  grapes  pear  tomato  "
     ]
    }
   ],
   "source": [
    "for i in List:                   # use a for loop i represnets each item of list\n",
    "    if 'a' in i:                 # condition that a should be in i(list item)\n",
    "        print(i,end=\"  \")        # print element which has char a"
   ]
  },
  {
   "cell_type": "markdown",
   "id": "99c95b8c-5d3d-419b-b3b2-fb3437348c63",
   "metadata": {},
   "source": [
    "## TO PRINT SORTED LIST"
   ]
  },
  {
   "cell_type": "code",
   "execution_count": 50,
   "id": "a2db060f-e9b7-45e8-b22c-08da6eca2b33",
   "metadata": {},
   "outputs": [
    {
     "name": "stdout",
     "output_type": "stream",
     "text": [
      "['apple', 'apricot', 'banana', 'bringal', 'cabagge', 'carrot', 'grapes', 'guava', 'ladyfinger', 'litchi', 'mango', 'onion', 'orange', 'pear', 'peas', 'potato', 'reddish', 'spinach', 'strawberry', 'tomato']\n"
     ]
    }
   ],
   "source": [
    "print(sorted(List))        # we can sort list by using sorted function"
   ]
  },
  {
   "cell_type": "markdown",
   "id": "a90b90c5-1bd0-46b3-8895-bb05aa2df72f",
   "metadata": {},
   "source": [
    "## ITEMS WITH EVEN NUMBER OF CHARACTERS"
   ]
  },
  {
   "cell_type": "code",
   "execution_count": 51,
   "id": "a799a485-4b61-49c3-8521-7b80d83824cc",
   "metadata": {},
   "outputs": [
    {
     "name": "stdout",
     "output_type": "stream",
     "text": [
      "orange   potato   banana   ladyfinger   strawberry   litchi   peas   carrot   grapes   pear   tomato   "
     ]
    }
   ],
   "source": [
    "for i in List:                    # use a for loop i represnets each item of list\n",
    "    if len(i)%2==0:               # condition that i should be even (remainder zero)\n",
    "        print(i, end=\"   \")       # if i would be even it will print"
   ]
  },
  {
   "cell_type": "markdown",
   "id": "8c41c261-3724-4ad5-a10d-b391ee416ed9",
   "metadata": {},
   "source": [
    "# QUESTION NO 3:"
   ]
  },
  {
   "cell_type": "code",
   "execution_count": 52,
   "id": "e163f0a5-6903-426f-a5f7-4a5c513ae844",
   "metadata": {},
   "outputs": [
    {
     "name": "stdout",
     "output_type": "stream",
     "text": [
      "['2', '0', '2', '3', '-', 'a', 'g', '-', '7', '1', '6', '4']\n"
     ]
    }
   ],
   "source": [
    "agNumber = '2023-ag-7164'    # initialized my ag number\n",
    "print(list(agNumber))         # by using list keyword we can print our agNumber as each item of list  "
   ]
  },
  {
   "cell_type": "markdown",
   "id": "53e6f35e-5b22-4dd7-ae7b-38a8d24af5a6",
   "metadata": {},
   "source": [
    "## REPLACE 2023 TO 2030"
   ]
  },
  {
   "cell_type": "code",
   "execution_count": 53,
   "id": "db3cac71-b1e3-422f-8fe9-45916accfba9",
   "metadata": {},
   "outputs": [
    {
     "name": "stdout",
     "output_type": "stream",
     "text": [
      "2030-ag-7164\n"
     ]
    }
   ],
   "source": [
    "print(agNumber.replace(\"2023\", \"2030\", 1))  # replace method is used"
   ]
  },
  {
   "cell_type": "markdown",
   "id": "01eed33d-6098-43d2-9ca1-3012f4da7926",
   "metadata": {},
   "source": [
    "## REPLACE 7164 TO ****"
   ]
  },
  {
   "cell_type": "code",
   "execution_count": 54,
   "id": "839a062f-f2fa-4711-afbf-0ab32b5edfc3",
   "metadata": {},
   "outputs": [
    {
     "name": "stdout",
     "output_type": "stream",
     "text": [
      "2023-ag-****\n"
     ]
    }
   ],
   "source": [
    "print(agNumber.replace(\"7164\", \"****\", 1))       # replace method is used"
   ]
  },
  {
   "cell_type": "markdown",
   "id": "ae9f90de-f658-4f95-ab7b-ecd9e2763810",
   "metadata": {},
   "source": [
    "## REPLACE AG NUMBER WITH FOLLOWING STRING"
   ]
  },
  {
   "cell_type": "code",
   "execution_count": 55,
   "id": "1748cdc1-8627-46f4-9abd-265deb7bd806",
   "metadata": {},
   "outputs": [
    {
     "name": "stdout",
     "output_type": "stream",
     "text": [
      "@2030*-*ag*-7164@\n"
     ]
    }
   ],
   "source": [
    "print(agNumber.replace(\"2023-ag-7164\", \"@2030*-*ag*-7164@\", 1))    #replace method is used "
   ]
  }
 ],
 "metadata": {
  "kernelspec": {
   "display_name": "Python 3 (ipykernel)",
   "language": "python",
   "name": "python3"
  },
  "language_info": {
   "codemirror_mode": {
    "name": "ipython",
    "version": 3
   },
   "file_extension": ".py",
   "mimetype": "text/x-python",
   "name": "python",
   "nbconvert_exporter": "python",
   "pygments_lexer": "ipython3",
   "version": "3.13.5"
  }
 },
 "nbformat": 4,
 "nbformat_minor": 5
}
